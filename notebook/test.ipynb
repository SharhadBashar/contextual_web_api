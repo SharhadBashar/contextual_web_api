{
 "cells": [
  {
   "cell_type": "code",
   "execution_count": 7,
   "metadata": {},
   "outputs": [],
   "source": [
    "import os\n",
    "import pickle\n",
    "import pandas as pd"
   ]
  },
  {
   "cell_type": "code",
   "execution_count": 2,
   "metadata": {},
   "outputs": [],
   "source": [
    "path = '../data/static_category/'\n",
    "apple_cat = 'apple_cat.csv'\n",
    "iab_cat = 'iab_cat.csv'"
   ]
  },
  {
   "cell_type": "code",
   "execution_count": 15,
   "metadata": {},
   "outputs": [],
   "source": [
    "def run(file):\n",
    "    cat_dict = {}\n",
    "    save_file = file.replace('.csv', '.pkl')\n",
    "    df = pd.read_csv(file)\n",
    "    for index, row in df.iterrows():\n",
    "        cat_dict[row['Name']] = row['Id']\n",
    "    with open(save_file, 'wb') as f: \n",
    "        pickle.dump(cat_dict, f)"
   ]
  },
  {
   "cell_type": "code",
   "execution_count": 16,
   "metadata": {},
   "outputs": [],
   "source": [
    "run(os.path.join(path, apple_cat))\n",
    "run(os.path.join(path, iab_cat))"
   ]
  },
  {
   "cell_type": "code",
   "execution_count": 5,
   "metadata": {},
   "outputs": [],
   "source": [
    "from whisper_jax import FlaxWhisperPipline"
   ]
  },
  {
   "cell_type": "code",
   "execution_count": 6,
   "metadata": {},
   "outputs": [
    {
     "name": "stderr",
     "output_type": "stream",
     "text": [
      "Downloading (…)rocessor_config.json: 100%|██████████| 185k/185k [00:00<00:00, 5.29MB/s]\n",
      "Downloading (…)okenizer_config.json: 100%|██████████| 841/841 [00:00<00:00, 399kB/s]\n",
      "Downloading (…)olve/main/vocab.json: 100%|██████████| 1.04M/1.04M [00:00<00:00, 7.28MB/s]\n",
      "Downloading (…)/main/tokenizer.json: 100%|██████████| 2.20M/2.20M [00:00<00:00, 2.72MB/s]\n",
      "Downloading (…)olve/main/merges.txt: 100%|██████████| 494k/494k [00:00<00:00, 6.38MB/s]\n",
      "Downloading (…)main/normalizer.json: 100%|██████████| 52.7k/52.7k [00:00<00:00, 3.06MB/s]\n",
      "Downloading (…)in/added_tokens.json: 100%|██████████| 2.08k/2.08k [00:00<00:00, 707kB/s]\n",
      "Downloading (…)cial_tokens_map.json: 100%|██████████| 2.08k/2.08k [00:00<00:00, 811kB/s]\n",
      "Downloading (…)lve/main/config.json: 100%|██████████| 1.98k/1.98k [00:00<00:00, 893kB/s]\n",
      "Downloading flax_model.msgpack: 100%|██████████| 151M/151M [00:17<00:00, 8.88MB/s] \n",
      "Downloading (…)neration_config.json: 100%|██████████| 3.51k/3.51k [00:00<00:00, 1.88MB/s]\n"
     ]
    }
   ],
   "source": [
    "# pipeline = FlaxWhisperPipline(\"openai/whisper-large-v2\")\n",
    "pipeline = FlaxWhisperPipline(\"openai/whisper-tiny\")"
   ]
  },
  {
   "cell_type": "code",
   "execution_count": 9,
   "metadata": {},
   "outputs": [],
   "source": [
    "text = pipeline(\"../data/audio/The_Organic_Gardener_11-20-22.mp3\")"
   ]
  },
  {
   "cell_type": "code",
   "execution_count": 10,
   "metadata": {},
   "outputs": [],
   "source": [
    "text = pipeline(\"../data/audio/The_Organic_Gardener_11-20-22.mp3\")"
   ]
  },
  {
   "cell_type": "code",
   "execution_count": null,
   "metadata": {},
   "outputs": [],
   "source": []
  }
 ],
 "metadata": {
  "kernelspec": {
   "display_name": "3.9",
   "language": "python",
   "name": "python3"
  },
  "language_info": {
   "codemirror_mode": {
    "name": "ipython",
    "version": 3
   },
   "file_extension": ".py",
   "mimetype": "text/x-python",
   "name": "python",
   "nbconvert_exporter": "python",
   "pygments_lexer": "ipython3",
   "version": "3.9.16"
  },
  "orig_nbformat": 4
 },
 "nbformat": 4,
 "nbformat_minor": 2
}
